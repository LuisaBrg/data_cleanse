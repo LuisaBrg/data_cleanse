{
 "cells": [
  {
   "cell_type": "markdown",
   "metadata": {},
   "source": [
    "Let's start cleaning data!"
   ]
  },
  {
   "cell_type": "code",
   "execution_count": 1,
   "metadata": {},
   "outputs": [
    {
     "data": {
      "text/html": [
       "<div>\n",
       "<style scoped>\n",
       "    .dataframe tbody tr th:only-of-type {\n",
       "        vertical-align: middle;\n",
       "    }\n",
       "\n",
       "    .dataframe tbody tr th {\n",
       "        vertical-align: top;\n",
       "    }\n",
       "\n",
       "    .dataframe thead th {\n",
       "        text-align: right;\n",
       "    }\n",
       "</style>\n",
       "<table border=\"1\" class=\"dataframe\">\n",
       "  <thead>\n",
       "    <tr style=\"text-align: right;\">\n",
       "      <th></th>\n",
       "      <th>Identifier</th>\n",
       "      <th>Edition Statement</th>\n",
       "      <th>Place of Publication</th>\n",
       "      <th>Date of Publication</th>\n",
       "      <th>Publisher</th>\n",
       "      <th>Title</th>\n",
       "      <th>Author</th>\n",
       "      <th>Contributors</th>\n",
       "      <th>Corporate Author</th>\n",
       "      <th>Corporate Contributors</th>\n",
       "      <th>Former owner</th>\n",
       "      <th>Engraver</th>\n",
       "      <th>Issuance type</th>\n",
       "      <th>Flickr URL</th>\n",
       "      <th>Shelfmarks</th>\n",
       "    </tr>\n",
       "  </thead>\n",
       "  <tbody>\n",
       "    <tr>\n",
       "      <th>0</th>\n",
       "      <td>206</td>\n",
       "      <td>NaN</td>\n",
       "      <td>London</td>\n",
       "      <td>1879 [1878]</td>\n",
       "      <td>S. Tinsley &amp; Co.</td>\n",
       "      <td>Walter Forbes. [A novel.] By A. A</td>\n",
       "      <td>A. A.</td>\n",
       "      <td>FORBES, Walter.</td>\n",
       "      <td>NaN</td>\n",
       "      <td>NaN</td>\n",
       "      <td>NaN</td>\n",
       "      <td>NaN</td>\n",
       "      <td>monographic</td>\n",
       "      <td>http://www.flickr.com/photos/britishlibrary/ta...</td>\n",
       "      <td>British Library HMNTS 12641.b.30.</td>\n",
       "    </tr>\n",
       "    <tr>\n",
       "      <th>1</th>\n",
       "      <td>216</td>\n",
       "      <td>NaN</td>\n",
       "      <td>London; Virtue &amp; Yorston</td>\n",
       "      <td>1868</td>\n",
       "      <td>Virtue &amp; Co.</td>\n",
       "      <td>All for Greed. [A novel. The dedication signed...</td>\n",
       "      <td>A., A. A.</td>\n",
       "      <td>BLAZE DE BURY, Marie Pauline Rose - Baroness</td>\n",
       "      <td>NaN</td>\n",
       "      <td>NaN</td>\n",
       "      <td>NaN</td>\n",
       "      <td>NaN</td>\n",
       "      <td>monographic</td>\n",
       "      <td>http://www.flickr.com/photos/britishlibrary/ta...</td>\n",
       "      <td>British Library HMNTS 12626.cc.2.</td>\n",
       "    </tr>\n",
       "    <tr>\n",
       "      <th>2</th>\n",
       "      <td>218</td>\n",
       "      <td>NaN</td>\n",
       "      <td>London</td>\n",
       "      <td>1869</td>\n",
       "      <td>Bradbury, Evans &amp; Co.</td>\n",
       "      <td>Love the Avenger. By the author of “All for Gr...</td>\n",
       "      <td>A., A. A.</td>\n",
       "      <td>BLAZE DE BURY, Marie Pauline Rose - Baroness</td>\n",
       "      <td>NaN</td>\n",
       "      <td>NaN</td>\n",
       "      <td>NaN</td>\n",
       "      <td>NaN</td>\n",
       "      <td>monographic</td>\n",
       "      <td>http://www.flickr.com/photos/britishlibrary/ta...</td>\n",
       "      <td>British Library HMNTS 12625.dd.1.</td>\n",
       "    </tr>\n",
       "    <tr>\n",
       "      <th>3</th>\n",
       "      <td>472</td>\n",
       "      <td>NaN</td>\n",
       "      <td>London</td>\n",
       "      <td>1851</td>\n",
       "      <td>James Darling</td>\n",
       "      <td>Welsh Sketches, chiefly ecclesiastical, to the...</td>\n",
       "      <td>A., E. S.</td>\n",
       "      <td>Appleyard, Ernest Silvanus.</td>\n",
       "      <td>NaN</td>\n",
       "      <td>NaN</td>\n",
       "      <td>NaN</td>\n",
       "      <td>NaN</td>\n",
       "      <td>monographic</td>\n",
       "      <td>http://www.flickr.com/photos/britishlibrary/ta...</td>\n",
       "      <td>British Library HMNTS 10369.bbb.15.</td>\n",
       "    </tr>\n",
       "    <tr>\n",
       "      <th>4</th>\n",
       "      <td>480</td>\n",
       "      <td>A new edition, revised, etc.</td>\n",
       "      <td>London</td>\n",
       "      <td>1857</td>\n",
       "      <td>Wertheim &amp; Macintosh</td>\n",
       "      <td>[The World in which I live, and my place in it...</td>\n",
       "      <td>A., E. S.</td>\n",
       "      <td>BROOME, John Henry.</td>\n",
       "      <td>NaN</td>\n",
       "      <td>NaN</td>\n",
       "      <td>NaN</td>\n",
       "      <td>NaN</td>\n",
       "      <td>monographic</td>\n",
       "      <td>http://www.flickr.com/photos/britishlibrary/ta...</td>\n",
       "      <td>British Library HMNTS 9007.d.28.</td>\n",
       "    </tr>\n",
       "  </tbody>\n",
       "</table>\n",
       "</div>"
      ],
      "text/plain": [
       "   Identifier             Edition Statement      Place of Publication  \\\n",
       "0         206                           NaN                    London   \n",
       "1         216                           NaN  London; Virtue & Yorston   \n",
       "2         218                           NaN                    London   \n",
       "3         472                           NaN                    London   \n",
       "4         480  A new edition, revised, etc.                    London   \n",
       "\n",
       "  Date of Publication              Publisher  \\\n",
       "0         1879 [1878]       S. Tinsley & Co.   \n",
       "1                1868           Virtue & Co.   \n",
       "2                1869  Bradbury, Evans & Co.   \n",
       "3                1851          James Darling   \n",
       "4                1857   Wertheim & Macintosh   \n",
       "\n",
       "                                               Title     Author  \\\n",
       "0                  Walter Forbes. [A novel.] By A. A      A. A.   \n",
       "1  All for Greed. [A novel. The dedication signed...  A., A. A.   \n",
       "2  Love the Avenger. By the author of “All for Gr...  A., A. A.   \n",
       "3  Welsh Sketches, chiefly ecclesiastical, to the...  A., E. S.   \n",
       "4  [The World in which I live, and my place in it...  A., E. S.   \n",
       "\n",
       "                                   Contributors  Corporate Author  \\\n",
       "0                               FORBES, Walter.               NaN   \n",
       "1  BLAZE DE BURY, Marie Pauline Rose - Baroness               NaN   \n",
       "2  BLAZE DE BURY, Marie Pauline Rose - Baroness               NaN   \n",
       "3                   Appleyard, Ernest Silvanus.               NaN   \n",
       "4                           BROOME, John Henry.               NaN   \n",
       "\n",
       "   Corporate Contributors Former owner  Engraver Issuance type  \\\n",
       "0                     NaN          NaN       NaN   monographic   \n",
       "1                     NaN          NaN       NaN   monographic   \n",
       "2                     NaN          NaN       NaN   monographic   \n",
       "3                     NaN          NaN       NaN   monographic   \n",
       "4                     NaN          NaN       NaN   monographic   \n",
       "\n",
       "                                          Flickr URL  \\\n",
       "0  http://www.flickr.com/photos/britishlibrary/ta...   \n",
       "1  http://www.flickr.com/photos/britishlibrary/ta...   \n",
       "2  http://www.flickr.com/photos/britishlibrary/ta...   \n",
       "3  http://www.flickr.com/photos/britishlibrary/ta...   \n",
       "4  http://www.flickr.com/photos/britishlibrary/ta...   \n",
       "\n",
       "                            Shelfmarks  \n",
       "0    British Library HMNTS 12641.b.30.  \n",
       "1    British Library HMNTS 12626.cc.2.  \n",
       "2    British Library HMNTS 12625.dd.1.  \n",
       "3  British Library HMNTS 10369.bbb.15.  \n",
       "4     British Library HMNTS 9007.d.28.  "
      ]
     },
     "execution_count": 1,
     "metadata": {},
     "output_type": "execute_result"
    }
   ],
   "source": [
    "import numpy as np\n",
    "import pandas as pd\n",
    "data = pd.read_csv('https://raw.githubusercontent.com/realpython/python-data-cleaning/master/Datasets/BL-Flickr-Images-Book.csv')\n",
    "\n",
    "#Let's explore the data set\n",
    "data.head()"
   ]
  },
  {
   "cell_type": "code",
   "execution_count": 2,
   "metadata": {},
   "outputs": [
    {
     "name": "stdout",
     "output_type": "stream",
     "text": [
      "<class 'pandas.core.frame.DataFrame'>\n",
      "RangeIndex: 8287 entries, 0 to 8286\n",
      "Data columns (total 15 columns):\n",
      "Identifier                8287 non-null int64\n",
      "Edition Statement         773 non-null object\n",
      "Place of Publication      8287 non-null object\n",
      "Date of Publication       8106 non-null object\n",
      "Publisher                 4092 non-null object\n",
      "Title                     8287 non-null object\n",
      "Author                    6509 non-null object\n",
      "Contributors              8287 non-null object\n",
      "Corporate Author          0 non-null float64\n",
      "Corporate Contributors    0 non-null float64\n",
      "Former owner              1 non-null object\n",
      "Engraver                  0 non-null float64\n",
      "Issuance type             8287 non-null object\n",
      "Flickr URL                8287 non-null object\n",
      "Shelfmarks                8287 non-null object\n",
      "dtypes: float64(3), int64(1), object(11)\n",
      "memory usage: 971.3+ KB\n"
     ]
    }
   ],
   "source": [
    "data.info()"
   ]
  },
  {
   "cell_type": "code",
   "execution_count": 3,
   "metadata": {},
   "outputs": [
    {
     "data": {
      "text/plain": [
       "Index(['Identifier', 'Edition Statement', 'Place of Publication',\n",
       "       'Date of Publication', 'Publisher', 'Title', 'Author', 'Contributors',\n",
       "       'Corporate Author', 'Corporate Contributors', 'Former owner',\n",
       "       'Engraver', 'Issuance type', 'Flickr URL', 'Shelfmarks'],\n",
       "      dtype='object')"
      ]
     },
     "execution_count": 3,
     "metadata": {},
     "output_type": "execute_result"
    }
   ],
   "source": [
    "# data.describe() #not really useful here\n",
    "data.columns"
   ]
  },
  {
   "cell_type": "code",
   "execution_count": 4,
   "metadata": {},
   "outputs": [],
   "source": [
    "#Let's remove the info that we don't need - as they take up space and bog down runtime.\n",
    "#Moreover my df will be easier to read and investigate\n",
    "\n",
    "to_drop_columns = ['Edition Statement','Contributors','Corporate Author', 'Corporate Contributors', 'Former owner',\n",
    "       'Engraver', 'Issuance type', 'Shelfmarks']\n",
    "\n",
    "data.drop(to_drop_columns, axis=1, inplace=True)\n",
    "#inplace = True will apply the change to current df\n",
    "\n",
    "# or we can call: data.drop(columns=to_drop, inplace=True)"
   ]
  },
  {
   "cell_type": "markdown",
   "metadata": {},
   "source": [
    "#### NOTE: \n",
    "If you know in advance which columns you’d like to retain, another option is to pass them to the **usecols** argument of **pd.read_csv**."
   ]
  },
  {
   "cell_type": "markdown",
   "metadata": {},
   "source": [
    "Let's change the index of the df. we can check if the identifier is unique and use it as index"
   ]
  },
  {
   "cell_type": "code",
   "execution_count": 5,
   "metadata": {},
   "outputs": [
    {
     "data": {
      "text/plain": [
       "True"
      ]
     },
     "execution_count": 5,
     "metadata": {},
     "output_type": "execute_result"
    }
   ],
   "source": [
    "data['Identifier'].is_unique"
   ]
  },
  {
   "cell_type": "code",
   "execution_count": 6,
   "metadata": {},
   "outputs": [
    {
     "name": "stdout",
     "output_type": "stream",
     "text": [
      "<class 'pandas.core.frame.DataFrame'>\n",
      "Int64Index: 8287 entries, 206 to 4160339\n",
      "Data columns (total 6 columns):\n",
      "Place of Publication    8287 non-null object\n",
      "Date of Publication     8106 non-null object\n",
      "Publisher               4092 non-null object\n",
      "Title                   8287 non-null object\n",
      "Author                  6509 non-null object\n",
      "Flickr URL              8287 non-null object\n",
      "dtypes: object(6)\n",
      "memory usage: 453.2+ KB\n"
     ]
    }
   ],
   "source": [
    "data = data.set_index(data.Identifier) #instead of assigning we could have use inplace=Ture\n",
    "data.drop('Identifier',axis=1, inplace=True)\n",
    "data.info()"
   ]
  },
  {
   "cell_type": "code",
   "execution_count": 7,
   "metadata": {},
   "outputs": [
    {
     "data": {
      "text/plain": [
       "Identifier\n",
       "206        1879 [1878]\n",
       "216               1868\n",
       "218               1869\n",
       "472               1851\n",
       "480               1857\n",
       "              ...     \n",
       "4158088           1838\n",
       "4158128       1831, 32\n",
       "4159563      [1806]-22\n",
       "4159587           1834\n",
       "4160339        1834-43\n",
       "Name: Date of Publication, Length: 8287, dtype: object"
      ]
     },
     "execution_count": 7,
     "metadata": {},
     "output_type": "execute_result"
    }
   ],
   "source": [
    "data['Date of Publication'] #let's explore this info"
   ]
  },
  {
   "cell_type": "markdown",
   "metadata": {},
   "source": [
    "#### Reflaction on Date of Publication:\n",
    "A particular book can have only one date of publication. Therefore, we need to do the following:\n",
    "\n",
    "- Remove the extra dates in square brackets, wherever present: 1879 [1878]\n",
    "- Convert date ranges to their “start date”, wherever present: 1860-63; 1839, 38-54\n",
    "- Completely remove the dates we are not certain about and replace them with NumPy’s NaN: [1897?]\n",
    "- Convert the string nan to NumPy’s NaN value\n",
    "- Synthesizing these patterns, we can actually take advantage of a single regular expression to extract the publication year:\n",
    "**regex = r'^(\\d{4})'**"
   ]
  },
  {
   "cell_type": "code",
   "execution_count": 23,
   "metadata": {},
   "outputs": [
    {
     "data": {
      "text/plain": [
       "Identifier\n",
       "5385       [1897?]\n",
       "5389       [1897?]\n",
       "14466      [1860?]\n",
       "51125      [1820?]\n",
       "75692      [1762?]\n",
       "            ...   \n",
       "3857689     1830?]\n",
       "3861858    [1868?]\n",
       "3898588    [1858?]\n",
       "3934491    [1899?]\n",
       "3998913    [1838?]\n",
       "Name: Date of Publication, Length: 119, dtype: object"
      ]
     },
     "execution_count": 23,
     "metadata": {},
     "output_type": "execute_result"
    }
   ],
   "source": [
    "#checking for uncretain date i.e. with ? symbol\n",
    "\n",
    "data[data['Date of Publication'].str.contains('\\?')==True] #if I don't use loc I can only filter by row or columns separatly\n",
    "data.loc[data['Date of Publication'].str.contains('\\?')==True,'Date of Publication'] \n",
    "\n",
    "#using loc I can just focus on a single column\n"
   ]
  },
  {
   "cell_type": "code",
   "execution_count": 59,
   "metadata": {},
   "outputs": [
    {
     "data": {
      "text/plain": [
       "119"
      ]
     },
     "execution_count": 59,
     "metadata": {},
     "output_type": "execute_result"
    }
   ],
   "source": [
    "uncertain_dates = data.loc[data['Date of Publication'].str.contains('\\?')==True,'Date of Publication'] #checking nbr of uncretain dates\n",
    "uncertain_dates.count()"
   ]
  },
  {
   "cell_type": "code",
   "execution_count": 113,
   "metadata": {},
   "outputs": [
    {
     "name": "stdout",
     "output_type": "stream",
     "text": [
      "number of rows:\n",
      "8287\n",
      "number of uncertain dates:\n",
      "119\n",
      "number of NaN\n",
      "181\n"
     ]
    },
    {
     "data": {
      "text/plain": [
       "Identifier\n",
       "5385         [1897?]\n",
       "5389         [1897?]\n",
       "11361       [1894-96\n",
       "13364         [1885]\n",
       "14466        [1860?]\n",
       "             ...    \n",
       "4003256       [1850]\n",
       "4006300       [1866]\n",
       "4112839      [1845.]\n",
       "4114889       [1868]\n",
       "4159563    [1806]-22\n",
       "Name: Date of Publication, Length: 786, dtype: object"
      ]
     },
     "execution_count": 113,
     "metadata": {},
     "output_type": "execute_result"
    }
   ],
   "source": [
    "print('number of rows:')\n",
    "print(len(data))\n",
    "print('number of uncertain dates:')\n",
    "print(data.loc[data['Date of Publication'].str.contains('\\?')==True,'Date of Publication'].count())\n",
    "print('number of NaN')\n",
    "print(data['Date of Publication'].isnull().sum())\n",
    "data.loc[data['Date of Publication'].str.contains(r'^\\[')==True,'Date of Publication']"
   ]
  },
  {
   "cell_type": "code",
   "execution_count": 120,
   "metadata": {},
   "outputs": [
    {
     "data": {
      "text/plain": [
       "Identifier\n",
       "206        1879\n",
       "216        1868\n",
       "218        1869\n",
       "472        1851\n",
       "480        1857\n",
       "           ... \n",
       "4158088    1838\n",
       "4158128    1831\n",
       "4159563     NaN\n",
       "4159587    1834\n",
       "4160339    1834\n",
       "Name: Date of Publication, Length: 8287, dtype: object"
      ]
     },
     "execution_count": 120,
     "metadata": {},
     "output_type": "execute_result"
    }
   ],
   "source": [
    "extr = data['Date of Publication'].str.extract(r'^(\\d{4})', expand=False) #uncertain dates have been converted in nan\n",
    "extr[uncertain_dates].unique()\n",
    "extr"
   ]
  },
  {
   "cell_type": "code",
   "execution_count": 72,
   "metadata": {},
   "outputs": [
    {
     "data": {
      "text/plain": [
       "971"
      ]
     },
     "execution_count": 72,
     "metadata": {},
     "output_type": "execute_result"
    }
   ],
   "source": [
    "extr.isnull().sum()"
   ]
  },
  {
   "cell_type": "code",
   "execution_count": 117,
   "metadata": {},
   "outputs": [
    {
     "data": {
      "text/plain": [
       "array(['[1897?]', '[1894-96', '[1885]', '[1860?]', '[1833]', '[1817.]',\n",
       "       '[1834]', '[1860,] 1861-1863', '[1872]', '[1874.]', '[1896]',\n",
       "       '[1820?]', '[1894]', '[1879]', '[1898]', '[1762?]', '[1890]',\n",
       "       '[1885?]', '[1785.]', '[1880?]', '[1885.]', '[1893]', '[1855.]',\n",
       "       '[1872]]', '[1858.]', '[1836?]', '[1877]]', '[1869.]', '[1888]',\n",
       "       '[1860.]', '[1879.]', '[1880.]', '[1852]', '[1866.]', '[1886]',\n",
       "       '[1891]', '[1892]', '[1889]', '[1880]', '[1850?]', '[1846]',\n",
       "       '[1800.]', '[1710?]', '[1782.]', '[1868-70.]', '[1851]', '[1836]',\n",
       "       '[1875?]', '[1890.]', '[1807]', '[1842]', '[1897]', '[1892-1900]',\n",
       "       '[1883.]', '[1866-68.]', '[1810?]', '[1824.]', '[1801.]', '[1849]',\n",
       "       '[1846, 47.]', '[1835?]', '[1866-1867]', '[1886?]', '[1883]',\n",
       "       '[1892.]', '[1844.]', '[1873-76.]', '[1899.]', '[1837-39]',\n",
       "       '[1865.]', '[1889.]', '[1897.]', '[1886.]', '[1851.]', '[1878]',\n",
       "       '[1844-47]', '[c. 1820.]', '[1848?]', '[1848.]', '[1818]',\n",
       "       '[1891.]', '[1856]', '[1862, 63]', '112. G. & W. B. Whittaker',\n",
       "       '[1825?]', '[1898.]', '[1873.]', '[1815?]', '[1875.]', '[1877.]',\n",
       "       '[1840.]', '[1879, 80.]', '[1886, 87.]', '[1888, 89.]', '[1871.]',\n",
       "       '[1878.]', '[1881.]', '[1872.]', '[1850.]', '[1845?]', '[1870?]',\n",
       "       '[1775.]', '[1887?]', '[1894.]', '[1887.]', '[1887]', '[1896.]',\n",
       "       '[1853?]', '[1861-63.]', '[1787?]', '[1873]', '[1855]', '[1861.]',\n",
       "       '[1884.]', '[1859]', '[1895.]', '[1800?]', '[1804?]', '[1845]',\n",
       "       '[1881?]', '[1870]', '[1835.]', '[1891, 94.]', '[1860?-70?]',\n",
       "       '[1868.]', '[1864]', '[1860]', '[1861]', '[1840?]', '[1877]',\n",
       "       '[1853.]', '[1895]', '[1802]', '[1812.]', '[1846.]', '[1858-60]',\n",
       "       '[1888.]', '[1882]', '[1890,] 91', '[1893.]', '[1853]', '[1868]',\n",
       "       '[1884]', '[1817]', '[1899]', '[1857-59?]', '[1862-65]', '[1837.]',\n",
       "       '[1876.]', '[1847]', '[1788.]', '[1869]', '[1874]', '[1866?]',\n",
       "       '[1863.]', '[1805?]', '[1770?]', '[1875]', '[1787.]', '[1840]',\n",
       "       '[1895-97]', '[1808?]', '[1852?]', '[1858]', '[1813?]',\n",
       "       '[1855-59]', '[1856?]', '[1849.]', '[1814.]', '[1822.]',\n",
       "       '[1895-97.]', '[1882, 85]', '[1871]', '[1864', '[1871', '[1838]',\n",
       "       '[1873, 74?]', '[1832?]', '[1883?]', '[1857.]', '[1852.]',\n",
       "       '[1876]', '[1885-86]', '[1868, 69.]', '[1882?]', '[1870, 72]',\n",
       "       '[1862.]', '[1890?]', '[1882-89]', '[1820]', '[c. 1855]',\n",
       "       '[1879-82.]', '[1895, 96]', '[1847?]', '[1789.]', '[1851?]',\n",
       "       '[1884-85]', '[1837]', '[1866]', '[1885, etc]', '[1875-77]',\n",
       "       '[1881]', '[1854-56]', '[1872?]', '[1850]', '[1891?]', '[1882.]',\n",
       "       '[1834-41]', '[1895?]', '[1876-78]', '[1823]', '[1864.]',\n",
       "       '[1864-]1868', '[1784.]', '[1839.]', '[1730?]', '[1885-88]',\n",
       "       '[1867.]', '[1896-98]', '[1865]', '[1850, 51.]', '[1844?]',\n",
       "       '[1826.]', '[1860, etc.]', '[1858]-60', '[1778.]', '[c. 1850]',\n",
       "       '[c. 1820]', '[1841]', '[1838.]', '[1848]', '[1878-94]',\n",
       "       '[1859]-64', '[1828]', '[1869]-1872', '[1780?]', '[1821?]',\n",
       "       '[1731.]', '[1848-49.]', '[1849, 50]', '[1839?]', '[1894?]',\n",
       "       '[1750?]', '[1884-93.]', '[1817?]', '[1855]-58', '[1859-]1867',\n",
       "       '[1730.]', '[1863]', 'MDCCCC. [1799]-1802', '[1870.]', '[1884?]',\n",
       "       'c.1825]', '[1816-19]', '[1710]', '[1822]', '[1812?]', '[1856]-64',\n",
       "       '[1833.]', '[c. 1825.]', '[1890, 91]', '[1857]', '[printed1890]',\n",
       "       '[1865, etc]', '[1786.]', '[1892?]', '[Bungay printed,] 1869',\n",
       "       '[1841-44]', '[1847.]', '[1873?]', '[1849-53]',\n",
       "       '17 vols. University Press', '[1795.]', '[1873-78]', '[1879-1885]',\n",
       "       '[1818.]', '[1879, 80]', '[1867]', '[1806?]', '[1888-90.]',\n",
       "       '[1868?]', '[1858?]', '[1827]', '[1899?]', '[1819]', '[1836, 37]',\n",
       "       '[1860, 61.]', '[1792.]', '[1861-69]', '[1858, 59.]', '[1871, 72]',\n",
       "       '[1838?]', '[1845.]', '[1806]-22'], dtype=object)"
      ]
     },
     "execution_count": 117,
     "metadata": {},
     "output_type": "execute_result"
    }
   ],
   "source": [
    "#let's check the values excluded from this extraction:\n",
    "data.loc[data['Date of Publication'].str.contains(r'^(\\d{4})')==False,'Date of Publication'].unique()"
   ]
  },
  {
   "cell_type": "markdown",
   "metadata": {},
   "source": [
    "It seems that this extraction has removed all intervals - not sure this is the right thing! Let's include the first element of the interval [] but we still want to exclude the uncertain dates i.e. dates with ?"
   ]
  },
  {
   "cell_type": "code",
   "execution_count": 127,
   "metadata": {},
   "outputs": [
    {
     "data": {
      "text/plain": [
       "Identifier\n",
       "206        1879\n",
       "216        1868\n",
       "218        1869\n",
       "472        1851\n",
       "480        1857\n",
       "           ... \n",
       "4158088    1838\n",
       "4158128    1831\n",
       "4159563    1806\n",
       "4159587    1834\n",
       "4160339    1834\n",
       "Name: Date of Publication, Length: 8287, dtype: object"
      ]
     },
     "execution_count": 127,
     "metadata": {},
     "output_type": "execute_result"
    }
   ],
   "source": [
    "extr2 = data['Date of Publication'].str.extract(r'^\\[?(\\d{4})[^?]?', expand=False) #uncertain dates have been converted in nan\n",
    "extr2"
   ]
  },
  {
   "cell_type": "markdown",
   "metadata": {},
   "source": [
    "**Regex epression:**\n",
    "\n",
    "r'^\\[?(\\d{4})[^?]?'\n",
    "^:starts with\n",
    "\\[?: ?stays for one or 0 => starts with one or 0 square brakets[\n",
    "\n",
    "(\\d{4}): what to extract called 'Capture Group' -> a group of 4 digit (numbers)\n",
    "\n",
    "[^: inside a braket it means not containing\n",
    "\n",
    "[^?] :any other carachters but NOT '?'\n",
    "\n",
    "?: one or 0 times\n",
    "\n",
    "r'^\\[?(\\d{4})[^?]?' = extract 4 digits where the strings starts with 1 or 0 '[', followed by 4 numbers and followed by 1 0r 0 other carachters exclued ?\n"
   ]
  },
  {
   "cell_type": "code",
   "execution_count": 145,
   "metadata": {},
   "outputs": [
    {
     "data": {
      "text/plain": [
       "Identifier\n",
       "206        1879.0\n",
       "216        1868.0\n",
       "218        1869.0\n",
       "472        1851.0\n",
       "480        1857.0\n",
       "            ...  \n",
       "4158088    1838.0\n",
       "4158128    1831.0\n",
       "4159563    1806.0\n",
       "4159587    1834.0\n",
       "4160339    1834.0\n",
       "Name: Date of Publication, Length: 8287, dtype: float64"
      ]
     },
     "execution_count": 145,
     "metadata": {},
     "output_type": "execute_result"
    }
   ],
   "source": [
    "data['Date of Publication'] = pd.to_numeric(extr2)\n",
    "data['Date of Publication']"
   ]
  },
  {
   "cell_type": "code",
   "execution_count": 164,
   "metadata": {},
   "outputs": [
    {
     "name": "stdout",
     "output_type": "stream",
     "text": [
      "Number of missing records: 192 over 8287 as percentage: 2.32%\n"
     ]
    }
   ],
   "source": [
    "#checks missing data\n",
    "data['Date of Publication'].isnull().sum()/len(data)\n",
    "print(f\"Number of missing records: {data['Date of Publication'].isnull().sum() } over {len(data)} \\\n",
    "as percentage: {data['Date of Publication'].isnull().sum()/len(data):.2%}\")"
   ]
  },
  {
   "cell_type": "code",
   "execution_count": 165,
   "metadata": {},
   "outputs": [
    {
     "data": {
      "text/html": [
       "<div>\n",
       "<style scoped>\n",
       "    .dataframe tbody tr th:only-of-type {\n",
       "        vertical-align: middle;\n",
       "    }\n",
       "\n",
       "    .dataframe tbody tr th {\n",
       "        vertical-align: top;\n",
       "    }\n",
       "\n",
       "    .dataframe thead th {\n",
       "        text-align: right;\n",
       "    }\n",
       "</style>\n",
       "<table border=\"1\" class=\"dataframe\">\n",
       "  <thead>\n",
       "    <tr style=\"text-align: right;\">\n",
       "      <th></th>\n",
       "      <th>Place of Publication</th>\n",
       "      <th>Date of Publication</th>\n",
       "      <th>Publisher</th>\n",
       "      <th>Title</th>\n",
       "      <th>Author</th>\n",
       "      <th>Flickr URL</th>\n",
       "    </tr>\n",
       "    <tr>\n",
       "      <th>Identifier</th>\n",
       "      <th></th>\n",
       "      <th></th>\n",
       "      <th></th>\n",
       "      <th></th>\n",
       "      <th></th>\n",
       "      <th></th>\n",
       "    </tr>\n",
       "  </thead>\n",
       "  <tbody>\n",
       "    <tr>\n",
       "      <th>206</th>\n",
       "      <td>London</td>\n",
       "      <td>1879.0</td>\n",
       "      <td>S. Tinsley &amp; Co.</td>\n",
       "      <td>Walter Forbes. [A novel.] By A. A</td>\n",
       "      <td>A. A.</td>\n",
       "      <td>http://www.flickr.com/photos/britishlibrary/ta...</td>\n",
       "    </tr>\n",
       "    <tr>\n",
       "      <th>216</th>\n",
       "      <td>London; Virtue &amp; Yorston</td>\n",
       "      <td>1868.0</td>\n",
       "      <td>Virtue &amp; Co.</td>\n",
       "      <td>All for Greed. [A novel. The dedication signed...</td>\n",
       "      <td>A., A. A.</td>\n",
       "      <td>http://www.flickr.com/photos/britishlibrary/ta...</td>\n",
       "    </tr>\n",
       "    <tr>\n",
       "      <th>218</th>\n",
       "      <td>London</td>\n",
       "      <td>1869.0</td>\n",
       "      <td>Bradbury, Evans &amp; Co.</td>\n",
       "      <td>Love the Avenger. By the author of “All for Gr...</td>\n",
       "      <td>A., A. A.</td>\n",
       "      <td>http://www.flickr.com/photos/britishlibrary/ta...</td>\n",
       "    </tr>\n",
       "    <tr>\n",
       "      <th>472</th>\n",
       "      <td>London</td>\n",
       "      <td>1851.0</td>\n",
       "      <td>James Darling</td>\n",
       "      <td>Welsh Sketches, chiefly ecclesiastical, to the...</td>\n",
       "      <td>A., E. S.</td>\n",
       "      <td>http://www.flickr.com/photos/britishlibrary/ta...</td>\n",
       "    </tr>\n",
       "    <tr>\n",
       "      <th>480</th>\n",
       "      <td>London</td>\n",
       "      <td>1857.0</td>\n",
       "      <td>Wertheim &amp; Macintosh</td>\n",
       "      <td>[The World in which I live, and my place in it...</td>\n",
       "      <td>A., E. S.</td>\n",
       "      <td>http://www.flickr.com/photos/britishlibrary/ta...</td>\n",
       "    </tr>\n",
       "  </tbody>\n",
       "</table>\n",
       "</div>"
      ],
      "text/plain": [
       "                Place of Publication  Date of Publication  \\\n",
       "Identifier                                                  \n",
       "206                           London               1879.0   \n",
       "216         London; Virtue & Yorston               1868.0   \n",
       "218                           London               1869.0   \n",
       "472                           London               1851.0   \n",
       "480                           London               1857.0   \n",
       "\n",
       "                        Publisher  \\\n",
       "Identifier                          \n",
       "206              S. Tinsley & Co.   \n",
       "216                  Virtue & Co.   \n",
       "218         Bradbury, Evans & Co.   \n",
       "472                 James Darling   \n",
       "480          Wertheim & Macintosh   \n",
       "\n",
       "                                                        Title     Author  \\\n",
       "Identifier                                                                 \n",
       "206                         Walter Forbes. [A novel.] By A. A      A. A.   \n",
       "216         All for Greed. [A novel. The dedication signed...  A., A. A.   \n",
       "218         Love the Avenger. By the author of “All for Gr...  A., A. A.   \n",
       "472         Welsh Sketches, chiefly ecclesiastical, to the...  A., E. S.   \n",
       "480         [The World in which I live, and my place in it...  A., E. S.   \n",
       "\n",
       "                                                   Flickr URL  \n",
       "Identifier                                                     \n",
       "206         http://www.flickr.com/photos/britishlibrary/ta...  \n",
       "216         http://www.flickr.com/photos/britishlibrary/ta...  \n",
       "218         http://www.flickr.com/photos/britishlibrary/ta...  \n",
       "472         http://www.flickr.com/photos/britishlibrary/ta...  \n",
       "480         http://www.flickr.com/photos/britishlibrary/ta...  "
      ]
     },
     "execution_count": 165,
     "metadata": {},
     "output_type": "execute_result"
    }
   ],
   "source": [
    "data.head()"
   ]
  },
  {
   "cell_type": "code",
   "execution_count": null,
   "metadata": {},
   "outputs": [],
   "source": []
  }
 ],
 "metadata": {
  "kernelspec": {
   "display_name": "Python 3",
   "language": "python",
   "name": "python3"
  },
  "language_info": {
   "codemirror_mode": {
    "name": "ipython",
    "version": 3
   },
   "file_extension": ".py",
   "mimetype": "text/x-python",
   "name": "python",
   "nbconvert_exporter": "python",
   "pygments_lexer": "ipython3",
   "version": "3.7.6"
  }
 },
 "nbformat": 4,
 "nbformat_minor": 4
}
